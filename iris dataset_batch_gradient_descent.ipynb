{
 "cells": [
  {
   "cell_type": "code",
   "execution_count": 21,
   "id": "0ae0da40-273f-4988-90ef-884deb2147fa",
   "metadata": {},
   "outputs": [],
   "source": [
    "from sklearn import datasets"
   ]
  },
  {
   "cell_type": "code",
   "execution_count": 22,
   "id": "f2a53835-f605-44c0-a668-b6944e372929",
   "metadata": {},
   "outputs": [
    {
     "data": {
      "text/plain": [
       "['data',\n",
       " 'target',\n",
       " 'frame',\n",
       " 'target_names',\n",
       " 'DESCR',\n",
       " 'feature_names',\n",
       " 'filename']"
      ]
     },
     "execution_count": 22,
     "metadata": {},
     "output_type": "execute_result"
    }
   ],
   "source": [
    "#Load dataset - this data is stored in dictionary format\n",
    "iris=datasets.load_iris()\n",
    "list(iris.keys())"
   ]
  },
  {
   "cell_type": "code",
   "execution_count": 23,
   "id": "92fe3624-5bb8-4b63-8a0f-0e6417aa5484",
   "metadata": {},
   "outputs": [
    {
     "name": "stdout",
     "output_type": "stream",
     "text": [
      ".. _iris_dataset:\n",
      "\n",
      "Iris plants dataset\n",
      "--------------------\n",
      "\n",
      "**Data Set Characteristics:**\n",
      "\n",
      "    :Number of Instances: 150 (50 in each of three classes)\n",
      "    :Number of Attributes: 4 numeric, predictive attributes and the class\n",
      "    :Attribute Information:\n",
      "        - sepal length in cm\n",
      "        - sepal width in cm\n",
      "        - petal length in cm\n",
      "        - petal width in cm\n",
      "        - class:\n",
      "                - Iris-Setosa\n",
      "                - Iris-Versicolour\n",
      "                - Iris-Virginica\n",
      "                \n",
      "    :Summary Statistics:\n",
      "\n",
      "    ============== ==== ==== ======= ===== ====================\n",
      "                    Min  Max   Mean    SD   Class Correlation\n",
      "    ============== ==== ==== ======= ===== ====================\n",
      "    sepal length:   4.3  7.9   5.84   0.83    0.7826\n",
      "    sepal width:    2.0  4.4   3.05   0.43   -0.4194\n",
      "    petal length:   1.0  6.9   3.76   1.76    0.9490  (high!)\n",
      "    petal width:    0.1  2.5   1.20   0.76    0.9565  (high!)\n",
      "    ============== ==== ==== ======= ===== ====================\n",
      "\n",
      "    :Missing Attribute Values: None\n",
      "    :Class Distribution: 33.3% for each of 3 classes.\n",
      "    :Creator: R.A. Fisher\n",
      "    :Donor: Michael Marshall (MARSHALL%PLU@io.arc.nasa.gov)\n",
      "    :Date: July, 1988\n",
      "\n",
      "The famous Iris database, first used by Sir R.A. Fisher. The dataset is taken\n",
      "from Fisher's paper. Note that it's the same as in R, but not as in the UCI\n",
      "Machine Learning Repository, which has two wrong data points.\n",
      "\n",
      "This is perhaps the best known database to be found in the\n",
      "pattern recognition literature.  Fisher's paper is a classic in the field and\n",
      "is referenced frequently to this day.  (See Duda & Hart, for example.)  The\n",
      "data set contains 3 classes of 50 instances each, where each class refers to a\n",
      "type of iris plant.  One class is linearly separable from the other 2; the\n",
      "latter are NOT linearly separable from each other.\n",
      "\n",
      ".. topic:: References\n",
      "\n",
      "   - Fisher, R.A. \"The use of multiple measurements in taxonomic problems\"\n",
      "     Annual Eugenics, 7, Part II, 179-188 (1936); also in \"Contributions to\n",
      "     Mathematical Statistics\" (John Wiley, NY, 1950).\n",
      "   - Duda, R.O., & Hart, P.E. (1973) Pattern Classification and Scene Analysis.\n",
      "     (Q327.D83) John Wiley & Sons.  ISBN 0-471-22361-1.  See page 218.\n",
      "   - Dasarathy, B.V. (1980) \"Nosing Around the Neighborhood: A New System\n",
      "     Structure and Classification Rule for Recognition in Partially Exposed\n",
      "     Environments\".  IEEE Transactions on Pattern Analysis and Machine\n",
      "     Intelligence, Vol. PAMI-2, No. 1, 67-71.\n",
      "   - Gates, G.W. (1972) \"The Reduced Nearest Neighbor Rule\".  IEEE Transactions\n",
      "     on Information Theory, May 1972, 431-433.\n",
      "   - See also: 1988 MLC Proceedings, 54-64.  Cheeseman et al\"s AUTOCLASS II\n",
      "     conceptual clustering system finds 3 classes in the data.\n",
      "   - Many, many more ...\n"
     ]
    }
   ],
   "source": [
    "#Description of the data\n",
    "print(iris.DESCR)"
   ]
  },
  {
   "cell_type": "code",
   "execution_count": 38,
   "id": "388f8dbe-72a0-4b85-ab41-0ae35dbba765",
   "metadata": {},
   "outputs": [],
   "source": [
    "#Defining X and y\n",
    "X=iris['data'][:, (2,3)]\n",
    "y=iris['target']"
   ]
  },
  {
   "cell_type": "code",
   "execution_count": 39,
   "id": "679fcaf0-285d-4b89-9e5c-9f0458b04d1d",
   "metadata": {},
   "outputs": [],
   "source": [
    "#Declaring bias term in X \n",
    "import numpy as np\n",
    "X_with_bias=np.c_[np.ones(len(X)),X]     #np.c_ -> Concatenates the slices"
   ]
  },
  {
   "cell_type": "code",
   "execution_count": 40,
   "id": "1f4490df-9c7b-4773-8951-a60cc14e0938",
   "metadata": {},
   "outputs": [],
   "source": [
    "np.random.seed(2042)              #to choose the same data every time the model is trained"
   ]
  },
  {
   "cell_type": "code",
   "execution_count": 41,
   "id": "8fb01478-1818-4ec0-8481-588f26e37492",
   "metadata": {},
   "outputs": [],
   "source": [
    "#Spliting the dataset into train-validation-test set\n",
    "test_ratio=0.2\n",
    "valid_ratio=0.2\n",
    "total_size=len(X_with_bias)\n",
    "\n",
    "test_size=int(total_size*test_ratio)\n",
    "valid_size=int(total_size*valid_ratio)\n",
    "train_size=total_size - test_size - valid_size\n",
    "\n",
    "rnd_indices=np.random.permutation(total_size)                     #To shuffle up the data for even distribution among test, validation and train split\n",
    "\n",
    "X_train=X_with_bias[rnd_indices[:train_size]]\n",
    "y_train=y[rnd_indices[:train_size]]\n",
    "X_valid=X_with_bias[rnd_indices[train_size:-test_size]]\n",
    "y_valid=y[rnd_indices[train_size:-test_size]]\n",
    "X_test=X_with_bias[rnd_indices[-test_size:]]\n",
    "y_test=y[rnd_indices[-test_size:]]"
   ]
  },
  {
   "cell_type": "code",
   "execution_count": 42,
   "id": "202aa4c7-34de-47fc-97cd-40573bbe985b",
   "metadata": {},
   "outputs": [
    {
     "name": "stdout",
     "output_type": "stream",
     "text": [
      "[0 1 2 1 1 0 1 1 1 0 1 2 0 1 1 2 1 1 0 2 1 1 1 2 0 0 0 2 0 1 2 0 2 1 1 2 1\n",
      " 0 0 1 2 2 2 2 0 2 0 2 2 2 2 0 0 1 1 2 0 0 1 0 2 0 1 1 2 2 2 0 0 0 2 1 2 1\n",
      " 0 1 0 1 2 2 1 0 2 2 0 2 0 0 0 0]\n"
     ]
    }
   ],
   "source": [
    "print(y_train)"
   ]
  },
  {
   "cell_type": "code",
   "execution_count": 43,
   "id": "884e0d37-b56f-43aa-890c-67d1cb4cda84",
   "metadata": {},
   "outputs": [],
   "source": [
    "#As we see above the target is having values of classes 0,1,2 but we need it to be 1 if the class is accepted else 0\n",
    "def one_hot(y):\n",
    "    n_classes=y.max()+1\n",
    "    #print(n_classes)\n",
    "    m=len(y)\n",
    "    Y_one_hot=np.zeros((m,n_classes))\n",
    "    #print([np.arange(m),y])\n",
    "    Y_one_hot[np.arange(m), y] = 1               #this will populate [0,2] with 1, [1,2] with 1, [2,1] with 1 and so on\n",
    "    return Y_one_hot"
   ]
  },
  {
   "cell_type": "code",
   "execution_count": 44,
   "id": "8b060a3b-9990-460c-af00-0abee5dc73e3",
   "metadata": {},
   "outputs": [
    {
     "data": {
      "text/plain": [
       "array([[1., 0., 0.],\n",
       "       [0., 1., 0.],\n",
       "       [0., 0., 1.],\n",
       "       [0., 1., 0.],\n",
       "       [0., 1., 0.],\n",
       "       [1., 0., 0.],\n",
       "       [0., 1., 0.],\n",
       "       [0., 1., 0.],\n",
       "       [0., 1., 0.],\n",
       "       [1., 0., 0.]])"
      ]
     },
     "execution_count": 44,
     "metadata": {},
     "output_type": "execute_result"
    }
   ],
   "source": [
    "one_hot(y_train[:10])"
   ]
  },
  {
   "cell_type": "code",
   "execution_count": 45,
   "id": "0488a4c5-2d61-4fa1-9d59-284b0f42b3fe",
   "metadata": {},
   "outputs": [],
   "source": [
    "#Applying one-hot on all the 3 sets\n",
    "Y_train_one_hot = one_hot(y_train)\n",
    "Y_valid_one_hot = one_hot(y_valid)\n",
    "Y_test_one_hot = one_hot(y_test)"
   ]
  },
  {
   "cell_type": "code",
   "execution_count": 46,
   "id": "fab09ecd-00d9-4cab-bba8-21c5acc41523",
   "metadata": {},
   "outputs": [],
   "source": [
    "#According to softmax formula - exp(s(x))[suffix k]/sum(exp(s(x))[suffix]\n",
    "def softmax(logits):\n",
    "    exps=np.exp(logits)\n",
    "    exp_sums=np.sum(exps, axis=1, keepdims=True)\n",
    "    return exps/exp_sums"
   ]
  },
  {
   "cell_type": "code",
   "execution_count": 47,
   "id": "670d1ca0-033d-4891-bf14-80be9fe8099d",
   "metadata": {},
   "outputs": [],
   "source": [
    "n_inputs=X_train.shape[1]             # 3 -> 2 features + bias_term\n",
    "n_outputs=len(np.unique(y_train))     # 3 -> (3 iris classes)"
   ]
  },
  {
   "cell_type": "code",
   "execution_count": 48,
   "id": "4f1629c8-9f4e-455c-8bb2-e863f8b20532",
   "metadata": {},
   "outputs": [
    {
     "name": "stdout",
     "output_type": "stream",
     "text": [
      "0 5.446205811872683\n",
      "500 0.8350062641405651\n",
      "1000 0.6878801447192402\n",
      "1500 0.6012379137693314\n",
      "2000 0.5444496861981872\n",
      "2500 0.5038530181431525\n",
      "3000 0.4729228972192248\n",
      "3500 0.44824244188957774\n",
      "4000 0.4278651093928793\n",
      "4500 0.4106007142918715\n",
      "5000 0.3956780375390374\n"
     ]
    }
   ],
   "source": [
    "#Creating the model\n",
    "eta=0.01\n",
    "n_iterations=5001\n",
    "m=len(X_train)\n",
    "epsilon = 1e-7\n",
    "\n",
    "theta = np.random.randn(n_inputs, n_outputs)\n",
    "\n",
    "for iter in range(n_iterations):\n",
    "    logits=X_train.dot(theta)\n",
    "    Y_prob=softmax(logits)\n",
    "    loss = -np.mean(np.sum(Y_train_one_hot * np.log(Y_prob + epsilon), axis=1))\n",
    "    error = Y_prob - Y_train_one_hot\n",
    "    if iter % 500 == 0:\n",
    "        print (iter, loss)\n",
    "    gradient = 1/m * X_train.T.dot(error)\n",
    "    theta = theta - eta * gradient"
   ]
  },
  {
   "cell_type": "code",
   "execution_count": 49,
   "id": "93af1aec-167a-49ef-86d8-ee7f1f7450d2",
   "metadata": {},
   "outputs": [
    {
     "data": {
      "text/plain": [
       "array([[ 3.32094157, -0.6501102 , -2.99979416],\n",
       "       [-1.1718465 ,  0.11706172,  0.10507543],\n",
       "       [-0.70224261, -0.09527802,  1.4786383 ]])"
      ]
     },
     "execution_count": 49,
     "metadata": {},
     "output_type": "execute_result"
    }
   ],
   "source": [
    "theta"
   ]
  },
  {
   "cell_type": "code",
   "execution_count": 50,
   "id": "58df86d5-e566-48cd-a9cc-551f9dca0df7",
   "metadata": {},
   "outputs": [
    {
     "name": "stdout",
     "output_type": "stream",
     "text": [
      "[0 2 0 0 1 2 2 0 0 0 1 1 2 2 1 1 2 1 2 1 0 1 2 2 1 0 0 1 1 1]\n",
      "[0 2 0 0 1 2 2 0 0 0 1 1 2 2 1 1 2 1 2 1 0 1 2 2 1 0 0 1 1 2]\n"
     ]
    },
    {
     "data": {
      "text/plain": [
       "0.9666666666666667"
      ]
     },
     "execution_count": 50,
     "metadata": {},
     "output_type": "execute_result"
    }
   ],
   "source": [
    "logits=X_valid.dot(theta)\n",
    "Y_prob=softmax(logits)\n",
    "y_predict= np.argmax(Y_prob, axis=1)\n",
    "print(y_predict)\n",
    "print(y_valid)\n",
    "\n",
    "accuracy_score= np.mean(y_predict==y_valid)\n",
    "accuracy_score"
   ]
  },
  {
   "cell_type": "code",
   "execution_count": 51,
   "id": "d1baf66a-1dc9-40ea-8f6f-70ae13545f81",
   "metadata": {},
   "outputs": [
    {
     "name": "stdout",
     "output_type": "stream",
     "text": [
      "0 6.629842469083912\n",
      "500 0.9686589842249377\n",
      "1000 0.7776844272207595\n",
      "1500 0.6814080407571755\n",
      "2000 0.6283713718788265\n",
      "2500 0.5963150854603225\n",
      "3000 0.575245519589463\n",
      "3500 0.5604093954580108\n",
      "4000 0.5493870445680064\n",
      "4500 0.5408567207176893\n",
      "5000 0.5340463324849026\n"
     ]
    }
   ],
   "source": [
    "#Adding regularization\n",
    "eta=0.01\n",
    "n_iterations=5001\n",
    "m=len(X_train)\n",
    "epsilon = 1e-7\n",
    "alpha = 0.1  # regularization hyperparameter\n",
    "\n",
    "theta = np.random.randn(n_inputs, n_outputs)\n",
    "\n",
    "for iter in range(n_iterations):\n",
    "    logits=X_train.dot(theta)\n",
    "    Y_prob=softmax(logits)\n",
    "    xentropy_loss = -np.mean(np.sum(Y_train_one_hot * np.log(Y_prob + epsilon), axis=1))\n",
    "    l2_loss = 1/2 * np.sum(np.square(theta[1:]))                                   #Ignoring the bias term\n",
    "    loss = xentropy_loss + alpha * l2_loss\n",
    "    error = Y_prob - Y_train_one_hot\n",
    "    if iter % 500 == 0:\n",
    "        print (iter, loss)\n",
    "    gradient = 1/m * X_train.T.dot(error) + np.r_[np.zeros([1, n_outputs]), alpha * theta[1:]]\n",
    "    theta = theta - eta * gradient                                       #we don't regularize the first element of Theta since this corresponds to the bias term"
   ]
  },
  {
   "cell_type": "code",
   "execution_count": 52,
   "id": "18a68fd3-e5b7-4c93-9b38-f637d7f1b349",
   "metadata": {},
   "outputs": [
    {
     "name": "stdout",
     "output_type": "stream",
     "text": [
      "[0 2 0 0 1 2 2 0 0 0 1 2 2 2 1 1 2 1 2 1 0 2 2 2 2 0 0 1 1 2]\n",
      "[0 2 0 0 1 2 2 0 0 0 1 1 2 2 1 1 2 1 2 1 0 1 2 2 1 0 0 1 1 2]\n"
     ]
    },
    {
     "data": {
      "text/plain": [
       "0.9"
      ]
     },
     "execution_count": 52,
     "metadata": {},
     "output_type": "execute_result"
    }
   ],
   "source": [
    "logits=X_valid.dot(theta)\n",
    "Y_prob=softmax(logits)\n",
    "y_predict= np.argmax(Y_prob, axis=1)\n",
    "print(y_predict)\n",
    "print(y_valid)\n",
    "\n",
    "accuracy_score= np.mean(y_predict==y_valid)\n",
    "accuracy_score"
   ]
  },
  {
   "cell_type": "code",
   "execution_count": 53,
   "id": "9e4f7ba0-8213-45c3-b979-7c269a7a01ed",
   "metadata": {},
   "outputs": [
    {
     "name": "stdout",
     "output_type": "stream",
     "text": [
      "0 5.401014020496038\n",
      "0 5.4044551826526\n",
      "500 0.9057746237871949\n",
      "500 0.8975143813565174\n",
      "1000 0.7546451358045128\n",
      "1000 0.7638778281807005\n",
      "1500 0.677898020634155\n",
      "1500 0.6964911465199841\n",
      "2000 0.633156395629338\n",
      "2000 0.657185425626267\n",
      "2500 0.6040928899583046\n",
      "2500 0.6315140938560632\n",
      "3000 0.5836979468114087\n",
      "3000 0.6133729210488515\n",
      "3500 0.5685796152886732\n",
      "3500 0.5998397415753632\n",
      "4000 0.556916593772195\n",
      "4000 0.5893513823642934\n",
      "4500 0.5476455924677358\n",
      "4500 0.5809927641590672\n",
      "5000 0.5401037070007071\n",
      "5000 0.5741892349628452\n"
     ]
    }
   ],
   "source": [
    "#Adding early stopping condition\n",
    "eta=0.01\n",
    "n_iterations=5001\n",
    "m=len(X_train)\n",
    "epsilon = 1e-7\n",
    "alpha = 0.1  # regularization hyperparameter\n",
    "best_loss = np.infty\n",
    "\n",
    "theta = np.random.randn(n_inputs, n_outputs)\n",
    "\n",
    "for iter in range(n_iterations):\n",
    "    logits=X_train.dot(theta)\n",
    "    Y_prob=softmax(logits)\n",
    "    xentropy_loss = -np.mean(np.sum(Y_train_one_hot * np.log(Y_prob + epsilon), axis=1))\n",
    "    l2_loss = 1/2 * np.sum(np.square(theta[1:]))                                   #Ignoring the bias term\n",
    "    loss = xentropy_loss + alpha * l2_loss\n",
    "    error = Y_prob - Y_train_one_hot\n",
    "    if iter % 500 == 0:\n",
    "        print (iter, loss)\n",
    "    gradient = 1/m * X_train.T.dot(error) + np.r_[np.zeros([1, n_outputs]), alpha * theta[1:]]\n",
    "    theta = theta - eta * gradient                                       #we don't regularize the first element of Theta since this corresponds to the bias term\n",
    "    \n",
    "    logits=X_valid.dot(theta)\n",
    "    Y_prob=softmax(logits)\n",
    "    xentropy_loss = -np.mean(np.sum(Y_valid_one_hot * np.log(Y_prob + epsilon), axis=1))\n",
    "    l2_loss = 1/2 * np.sum(np.square(theta[1:]))\n",
    "    loss = xentropy_loss + alpha * l2_loss\n",
    "    if iter % 500 == 0:\n",
    "        print (iter, loss)\n",
    "    if loss < best_loss:\n",
    "        best_loss = loss\n",
    "    else:\n",
    "        print(iter-1, best_loss)\n",
    "        print(iter,loss,'early stopping')\n",
    "        break"
   ]
  },
  {
   "cell_type": "code",
   "execution_count": 54,
   "id": "ac93706a-ffee-404f-9e0f-3595225bf3e8",
   "metadata": {},
   "outputs": [
    {
     "data": {
      "text/plain": [
       "0.9333333333333333"
      ]
     },
     "execution_count": 54,
     "metadata": {},
     "output_type": "execute_result"
    }
   ],
   "source": [
    "#Test score\n",
    "logits = X_test.dot(theta)\n",
    "Y_proba = softmax(logits)\n",
    "y_predict = np.argmax(Y_proba, axis=1)\n",
    "\n",
    "accuracy_score = np.mean(y_predict == y_test)\n",
    "accuracy_score"
   ]
  },
  {
   "cell_type": "code",
   "execution_count": 55,
   "id": "58e5fe87-b781-4a49-8487-2fb2fb4c85ef",
   "metadata": {},
   "outputs": [
    {
     "data": {
      "image/png": "[encoded data removed]",
      "text/plain": [
       "<Figure size 720x288 with 1 Axes>"
      ]
     },
     "metadata": {
      "needs_background": "light"
     },
     "output_type": "display_data"
    }
   ],
   "source": [
    "import matplotlib.pyplot as plt\n",
    "x0, x1 = np.meshgrid(\n",
    "        np.linspace(0, 8, 500).reshape(-1, 1),\n",
    "        np.linspace(0, 3.5, 200).reshape(-1, 1),\n",
    "    )\n",
    "\n",
    "X_new = np.c_[x0.ravel(), x1.ravel()]\n",
    "X_new_with_bias = np.c_[np.ones([len(X_new), 1]), X_new]\n",
    "\n",
    "logits = X_new_with_bias.dot(theta)\n",
    "Y_proba = softmax(logits)\n",
    "y_predict = np.argmax(Y_proba, axis=1)\n",
    "\n",
    "zz1 = Y_proba[:, 1].reshape(x0.shape)\n",
    "zz = y_predict.reshape(x0.shape)\n",
    "\n",
    "plt.figure(figsize=(10, 4))\n",
    "plt.plot(X[y==2, 0], X[y==2, 1], \"g^\", label=\"Iris-Virginica\")\n",
    "plt.plot(X[y==1, 0], X[y==1, 1], \"bs\", label=\"Iris-Versicolor\")\n",
    "plt.plot(X[y==0, 0], X[y==0, 1], \"yo\", label=\"Iris-Setosa\")\n",
    "\n",
    "from matplotlib.colors import ListedColormap\n",
    "\n",
    "custom_cmap = ListedColormap(['#fafab0','#9898ff','#a0faa0'])\n",
    "\n",
    "plt.contourf(x0, x1, zz, cmap=custom_cmap)\n",
    "contour = plt.contour(x0, x1, zz1, cmap=plt.cm.brg)\n",
    "plt.clabel(contour, inline=1, fontsize=12)\n",
    "plt.xlabel(\"Petal length\", fontsize=14)\n",
    "plt.ylabel(\"Petal width\", fontsize=14)\n",
    "plt.legend(loc=\"upper left\", fontsize=14)\n",
    "plt.axis([0, 7, 0, 3.5])\n",
    "plt.show()"
   ]
  },
  {
   "cell_type": "code",
   "execution_count": 72,
   "id": "3e22100b-bdb6-4b8d-a758-4f3ae8170a08",
   "metadata": {},
   "outputs": [],
   "source": [
    "#Applying the iris dataset on Scikit library linearSVC and SVC\n",
    "X=iris['data'][:, (2,3)]\n",
    "y=iris['target']\n",
    "\n",
    "setosa_or_versicolor = (y == 0) | (y == 1)\n",
    "X = X[setosa_or_versicolor]\n",
    "y = y[setosa_or_versicolor]"
   ]
  },
  {
   "cell_type": "code",
   "execution_count": 73,
   "id": "69737a9e-5ada-4597-a0d2-1a81b753e12e",
   "metadata": {},
   "outputs": [
    {
     "name": "stdout",
     "output_type": "stream",
     "text": [
      "LinearSVC:                    [0.28475098] [[1.05364854 1.09903804]]\n",
      "SVC:                          [0.31896852] [[1.1203284  1.02625193]]\n",
      "SGDClassifier(alpha=0.00200): [0.319] [[1.12087283 1.02679408]]\n"
     ]
    }
   ],
   "source": [
    "#LinearSVC - not using Pipeline as using Pipeline will limit you to use models\n",
    "from sklearn.preprocessing import StandardScaler\n",
    "from sklearn.svm import LinearSVC\n",
    "\n",
    "C = 5\n",
    "alpha = 1 / (C * len(X))\n",
    "\n",
    "lin_clf = LinearSVC(loss=\"hinge\", C=C, random_state=42)\n",
    "svm_clf = SVC(kernel=\"linear\", C=C)\n",
    "sgd_clf = SGDClassifier(loss=\"hinge\", learning_rate=\"constant\", eta0=0.001, alpha=alpha,\n",
    "                        max_iter=100000, tol=-np.infty, random_state=42)\n",
    "\n",
    "scaler = StandardScaler()\n",
    "X_scaled = scaler.fit_transform(X)\n",
    "\n",
    "lin_clf.fit(X_scaled, y)\n",
    "svm_clf.fit(X_scaled, y)\n",
    "sgd_clf.fit(X_scaled, y)\n",
    "\n",
    "print(\"LinearSVC:                   \", lin_clf.intercept_, lin_clf.coef_)\n",
    "print(\"SVC:                         \", svm_clf.intercept_, svm_clf.coef_)\n",
    "print(\"SGDClassifier(alpha={:.5f}):\".format(sgd_clf.alpha), sgd_clf.intercept_, sgd_clf.coef_)"
   ]
  },
  {
   "cell_type": "code",
   "execution_count": 84,
   "id": "84007c55-633d-40d0-be67-ff0d89e3ba38",
   "metadata": {},
   "outputs": [
    {
     "data": {
      "image/png": "[encoded data removed]",
      "text/plain": [
       "<Figure size 792x288 with 1 Axes>"
      ]
     },
     "metadata": {
      "needs_background": "light"
     },
     "output_type": "display_data"
    }
   ],
   "source": [
    "#Plot the 3 models -\n",
    "w1=-lin_clf.coef_[0,0]/lin_clf.coef_[0,1]\n",
    "b1=-lin_clf.intercept_[0]/lin_clf.coef_[0,1]\n",
    "w2=-svm_clf.coef_[0,0]/svm_clf.coef_[0,1]\n",
    "b2=-svm_clf.intercept_[0]/svm_clf.coef_[0,1]\n",
    "w3=-sgd_clf.coef_[0,0]/sgd_clf.coef_[0,1]\n",
    "b3=-sgd_clf.intercept_[0]/sgd_clf.coef_[0,1]\n",
    "\n",
    "#Transform the decision boundary lines back to the original scale\n",
    "line1=scaler.inverse_transform([[-10, -10 * w1 + b1], [10, 10 * w1 + b1]])\n",
    "line2=scaler.inverse_transform([[-10, -10 * w2 + b2], [10, 10 * w2 + b2]])\n",
    "line3=scaler.inverse_transform([[-10, -10 * w3 + b3], [10, 10 * w3 + b3]])\n",
    "\n",
    "# Plot all three decision boundaries\n",
    "plt.figure(figsize=(11, 4))\n",
    "plt.plot(line1[:, 0], line1[:, 1], \"k:\", label=\"LinearSVC\")\n",
    "plt.plot(line2[:, 0], line2[:, 1], \"b--\", linewidth=2, label=\"SVC\")\n",
    "plt.plot(line3[:, 0], line3[:, 1], \"r-\", label=\"SGDClassifier\")\n",
    "plt.plot(X[:, 0][y==1], X[:, 1][y==1], \"bs\") # label=\"Iris-Versicolor\"\n",
    "plt.plot(X[:, 0][y==0], X[:, 1][y==0], \"yo\") # label=\"Iris-Setosa\"\n",
    "plt.xlabel(\"Petal length\", fontsize=14)\n",
    "plt.ylabel(\"Petal width\", fontsize=14)\n",
    "plt.legend(loc=\"upper center\", fontsize=14)\n",
    "plt.axis([0, 5.5, 0, 2])\n",
    "\n",
    "plt.xlabel(\"Petal length\", fontsize=14)\n",
    "plt.ylabel(\"Petal width\", fontsize=14)\n",
    "plt.legend(loc=\"upper center\", fontsize=14)\n",
    "plt.show()"
   ]
  },
  {
   "cell_type": "code",
   "execution_count": null,
   "id": "d9f4ed34-0a0c-4e9e-94a0-810386b2db14",
   "metadata": {},
   "outputs": [],
   "source": []
  }
 ],
 "metadata": {
  "kernelspec": {
   "display_name": "Python 3 (ipykernel)",
   "language": "python",
   "name": "python3"
  },
  "language_info": {
   "codemirror_mode": {
    "name": "ipython",
    "version": 3
   },
   "file_extension": ".py",
   "mimetype": "text/x-python",
   "name": "python",
   "nbconvert_exporter": "python",
   "pygments_lexer": "ipython3",
   "version": "3.8.10"
  }
 },
 "nbformat": 4,
 "nbformat_minor": 5
}
