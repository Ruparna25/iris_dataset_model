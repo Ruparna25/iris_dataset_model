{
 "cells": [
  {
   "cell_type": "code",
   "execution_count": 1,
   "id": "0ae0da40-273f-4988-90ef-884deb2147fa",
   "metadata": {},
   "outputs": [],
   "source": [
    "from sklearn import datasets"
   ]
  },
  {
   "cell_type": "code",
   "execution_count": 8,
   "id": "f2a53835-f605-44c0-a668-b6944e372929",
   "metadata": {},
   "outputs": [
    {
     "data": {
      "text/plain": [
       "['data',\n",
       " 'target',\n",
       " 'frame',\n",
       " 'target_names',\n",
       " 'DESCR',\n",
       " 'feature_names',\n",
       " 'filename']"
      ]
     },
     "execution_count": 8,
     "metadata": {},
     "output_type": "execute_result"
    }
   ],
   "source": [
    "#Load dataset - this data is stored in dictionary format\n",
    "iris=datasets.load_iris()\n",
    "list(iris.keys())"
   ]
  },
  {
   "cell_type": "code",
   "execution_count": 13,
   "id": "92fe3624-5bb8-4b63-8a0f-0e6417aa5484",
   "metadata": {},
   "outputs": [
    {
     "name": "stdout",
     "output_type": "stream",
     "text": [
      ".. _iris_dataset:\n",
      "\n",
      "Iris plants dataset\n",
      "--------------------\n",
      "\n",
      "**Data Set Characteristics:**\n",
      "\n",
      "    :Number of Instances: 150 (50 in each of three classes)\n",
      "    :Number of Attributes: 4 numeric, predictive attributes and the class\n",
      "    :Attribute Information:\n",
      "        - sepal length in cm\n",
      "        - sepal width in cm\n",
      "        - petal length in cm\n",
      "        - petal width in cm\n",
      "        - class:\n",
      "                - Iris-Setosa\n",
      "                - Iris-Versicolour\n",
      "                - Iris-Virginica\n",
      "                \n",
      "    :Summary Statistics:\n",
      "\n",
      "    ============== ==== ==== ======= ===== ====================\n",
      "                    Min  Max   Mean    SD   Class Correlation\n",
      "    ============== ==== ==== ======= ===== ====================\n",
      "    sepal length:   4.3  7.9   5.84   0.83    0.7826\n",
      "    sepal width:    2.0  4.4   3.05   0.43   -0.4194\n",
      "    petal length:   1.0  6.9   3.76   1.76    0.9490  (high!)\n",
      "    petal width:    0.1  2.5   1.20   0.76    0.9565  (high!)\n",
      "    ============== ==== ==== ======= ===== ====================\n",
      "\n",
      "    :Missing Attribute Values: None\n",
      "    :Class Distribution: 33.3% for each of 3 classes.\n",
      "    :Creator: R.A. Fisher\n",
      "    :Donor: Michael Marshall (MARSHALL%PLU@io.arc.nasa.gov)\n",
      "    :Date: July, 1988\n",
      "\n",
      "The famous Iris database, first used by Sir R.A. Fisher. The dataset is taken\n",
      "from Fisher's paper. Note that it's the same as in R, but not as in the UCI\n",
      "Machine Learning Repository, which has two wrong data points.\n",
      "\n",
      "This is perhaps the best known database to be found in the\n",
      "pattern recognition literature.  Fisher's paper is a classic in the field and\n",
      "is referenced frequently to this day.  (See Duda & Hart, for example.)  The\n",
      "data set contains 3 classes of 50 instances each, where each class refers to a\n",
      "type of iris plant.  One class is linearly separable from the other 2; the\n",
      "latter are NOT linearly separable from each other.\n",
      "\n",
      ".. topic:: References\n",
      "\n",
      "   - Fisher, R.A. \"The use of multiple measurements in taxonomic problems\"\n",
      "     Annual Eugenics, 7, Part II, 179-188 (1936); also in \"Contributions to\n",
      "     Mathematical Statistics\" (John Wiley, NY, 1950).\n",
      "   - Duda, R.O., & Hart, P.E. (1973) Pattern Classification and Scene Analysis.\n",
      "     (Q327.D83) John Wiley & Sons.  ISBN 0-471-22361-1.  See page 218.\n",
      "   - Dasarathy, B.V. (1980) \"Nosing Around the Neighborhood: A New System\n",
      "     Structure and Classification Rule for Recognition in Partially Exposed\n",
      "     Environments\".  IEEE Transactions on Pattern Analysis and Machine\n",
      "     Intelligence, Vol. PAMI-2, No. 1, 67-71.\n",
      "   - Gates, G.W. (1972) \"The Reduced Nearest Neighbor Rule\".  IEEE Transactions\n",
      "     on Information Theory, May 1972, 431-433.\n",
      "   - See also: 1988 MLC Proceedings, 54-64.  Cheeseman et al\"s AUTOCLASS II\n",
      "     conceptual clustering system finds 3 classes in the data.\n",
      "   - Many, many more ...\n"
     ]
    }
   ],
   "source": [
    "#Description of the data\n",
    "print(iris.DESCR)"
   ]
  },
  {
   "cell_type": "code",
   "execution_count": 17,
   "id": "388f8dbe-72a0-4b85-ab41-0ae35dbba765",
   "metadata": {},
   "outputs": [],
   "source": [
    "#Defining X and y\n",
    "X=iris['data'][:, (2,3)]\n",
    "y=iris['target']"
   ]
  },
  {
   "cell_type": "code",
   "execution_count": 23,
   "id": "679fcaf0-285d-4b89-9e5c-9f0458b04d1d",
   "metadata": {},
   "outputs": [],
   "source": [
    "#Declaring bias term in X \n",
    "import numpy as np\n",
    "X_with_bias=np.c_[np.ones(len(X)),X]     #np.c_ -> Concatenates the slices"
   ]
  },
  {
   "cell_type": "code",
   "execution_count": 26,
   "id": "8fb01478-1818-4ec0-8481-588f26e37492",
   "metadata": {},
   "outputs": [],
   "source": [
    "#Spliting the dataset into train-validation-test set\n",
    "test_ratio=0.2\n",
    "valid_ratio=0.2\n",
    "total_size=len(X_with_bias)\n",
    "\n",
    "test_size=int(total_size*test_ratio)\n",
    "valid_size=int(total_size*valid_ratio)\n",
    "train_size=total_size - test_size - valid_size\n",
    "\n",
    "rnd_indices=np.random.permutation(total_size)                     #To shuffle up the data for even distribution among test, validation and train split\n",
    "\n",
    "X_train=X_with_bias[rnd_indices[:train_size]]\n",
    "y_train=y[rnd_indices[:train_size]]\n",
    "X_valid=X_with_bias[rnd_indices[train_size:-test_size]]\n",
    "y_valid=y[rnd_indices[train_size:-test_size]]\n",
    "X_test=X_with_bias[rnd_indices[-test_size:]]\n",
    "y_test=y[rnd_indices[-test_size:]]"
   ]
  },
  {
   "cell_type": "code",
   "execution_count": 27,
   "id": "202aa4c7-34de-47fc-97cd-40573bbe985b",
   "metadata": {},
   "outputs": [
    {
     "name": "stdout",
     "output_type": "stream",
     "text": [
      "[2 2 1 2 2 1 2 1 2 0 1 0 1 1 0 0 1 0 2 1 2 2 0 2 0 1 1 2 0 2 0 0 2 0 0 1 2\n",
      " 1 1 0 1 1 2 1 1 0 0 0 1 0 0 2 1 1 1 1 0 1 1 0 1 0 0 2 0 1 1 2 0 1 0 1 0 1\n",
      " 0 2 2 2 0 2 1 1 2 0 2 0 2 0 2 2]\n"
     ]
    }
   ],
   "source": [
    "print(y_train)"
   ]
  },
  {
   "cell_type": "code",
   "execution_count": 72,
   "id": "884e0d37-b56f-43aa-890c-67d1cb4cda84",
   "metadata": {},
   "outputs": [],
   "source": [
    "#As we see above the target is having values of classes 0,1,2 but we need it to be 1 if the class is accepted else 0\n",
    "def one_hot(y):\n",
    "    n_classes=y.max()+1\n",
    "    #print(n_classes)\n",
    "    m=len(y)\n",
    "    Y_one_hot=np.zeros((m,n_classes))\n",
    "    #print([np.arange(m),y])\n",
    "    Y_one_hot[np.arange(m), y] = 1               #this will populate [0,2] with 1, [1,2] with 1, [2,1] with 1 and so on\n",
    "    return Y_one_hot"
   ]
  },
  {
   "cell_type": "code",
   "execution_count": 73,
   "id": "8b060a3b-9990-460c-af00-0abee5dc73e3",
   "metadata": {},
   "outputs": [
    {
     "data": {
      "text/plain": [
       "array([[0., 0., 1.],\n",
       "       [0., 0., 1.],\n",
       "       [0., 1., 0.],\n",
       "       [0., 0., 1.],\n",
       "       [0., 0., 1.],\n",
       "       [0., 1., 0.],\n",
       "       [0., 0., 1.],\n",
       "       [0., 1., 0.],\n",
       "       [0., 0., 1.],\n",
       "       [1., 0., 0.]])"
      ]
     },
     "execution_count": 73,
     "metadata": {},
     "output_type": "execute_result"
    }
   ],
   "source": [
    "one_hot(y_train[:10])"
   ]
  },
  {
   "cell_type": "code",
   "execution_count": 74,
   "id": "0488a4c5-2d61-4fa1-9d59-284b0f42b3fe",
   "metadata": {},
   "outputs": [],
   "source": [
    "#Applying one-hot on all the 3 sets\n",
    "Y_train_one_hot = one_hot(y_train)\n",
    "Y_valid_one_hot = one_hot(y_valid)\n",
    "Y_test_one_hot = one_hot(y_test)"
   ]
  },
  {
   "cell_type": "code",
   "execution_count": 75,
   "id": "fab09ecd-00d9-4cab-bba8-21c5acc41523",
   "metadata": {},
   "outputs": [],
   "source": [
    "#According to softmax formula - exp(s(x))[suffix k]/sum(exp(s(x))[suffix]\n",
    "def softmax(logits):\n",
    "    exps=np.exp(logits)\n",
    "    exp_sums=np.sum(exps, axis=1, keepdims=True)\n",
    "    return exps/exp_sums"
   ]
  },
  {
   "cell_type": "code",
   "execution_count": 76,
   "id": "670d1ca0-033d-4891-bf14-80be9fe8099d",
   "metadata": {},
   "outputs": [],
   "source": [
    "n_inputs=X_train.shape[1]             # 3 -> 2 features + bias_term\n",
    "n_outputs=len(np.unique(y_train))     # 3 -> (3 iris classes)"
   ]
  },
  {
   "cell_type": "code",
   "execution_count": 78,
   "id": "4f1629c8-9f4e-455c-8bb2-e863f8b20532",
   "metadata": {},
   "outputs": [
    {
     "name": "stdout",
     "output_type": "stream",
     "text": [
      "0 2.5124146553941107\n",
      "500 0.9745517085183415\n",
      "1000 0.7708003796789358\n",
      "1500 0.6530716559180744\n",
      "2000 0.580346752552203\n",
      "2500 0.531129096496136\n",
      "3000 0.4951718322286116\n",
      "3500 0.4673537765456911\n",
      "4000 0.4449080990601242\n",
      "4500 0.42622248693083753\n",
      "5000 0.4102936838996752\n"
     ]
    }
   ],
   "source": [
    "#Creating the model\n",
    "eta=0.01\n",
    "n_iterations=5001\n",
    "m=len(X_train)\n",
    "epsilon = 1e-7\n",
    "\n",
    "theta = np.random.randn(n_inputs, n_outputs)\n",
    "\n",
    "for iter in range(n_iterations):\n",
    "    logits=X_train.dot(theta)\n",
    "    Y_prob=softmax(logits)\n",
    "    loss = -np.mean(np.sum(Y_train_one_hot * np.log(Y_prob + epsilon), axis=1))\n",
    "    error = Y_prob - Y_train_one_hot\n",
    "    if iter % 500 == 0:\n",
    "        print (iter, loss)\n",
    "    gradient = 1/m * X_train.T.dot(error)\n",
    "    theta = theta - eta * gradient"
   ]
  },
  {
   "cell_type": "code",
   "execution_count": 79,
   "id": "93af1aec-167a-49ef-86d8-ee7f1f7450d2",
   "metadata": {},
   "outputs": [
    {
     "data": {
      "text/plain": [
       "array([[ 3.33801499, -0.17501254, -2.70053181],\n",
       "       [-0.24655977,  0.7026708 ,  0.75652343],\n",
       "       [-0.77307927,  0.73306543,  2.14205628]])"
      ]
     },
     "execution_count": 79,
     "metadata": {},
     "output_type": "execute_result"
    }
   ],
   "source": [
    "theta"
   ]
  },
  {
   "cell_type": "code",
   "execution_count": 85,
   "id": "58df86d5-e566-48cd-a9cc-551f9dca0df7",
   "metadata": {},
   "outputs": [
    {
     "name": "stdout",
     "output_type": "stream",
     "text": [
      "[2 2 1 2 1 2 0 1 2 0 1 2 1 0 0 0 1 2 2 1 2 2 1 1 2 2 1 2 0 1]\n",
      "[2 2 1 2 1 2 0 1 2 0 1 2 1 0 0 0 1 2 2 1 2 2 1 1 2 2 1 2 0 1]\n"
     ]
    },
    {
     "data": {
      "text/plain": [
       "1.0"
      ]
     },
     "execution_count": 85,
     "metadata": {},
     "output_type": "execute_result"
    }
   ],
   "source": [
    "logits=X_valid.dot(theta)\n",
    "Y_prob=softmax(logits)\n",
    "y_predict= np.argmax(Y_prob, axis=1)\n",
    "print(y_predict)\n",
    "print(y_valid)\n",
    "\n",
    "accuracy_score= np.mean(y_predict==y_valid)\n",
    "accuracy_score"
   ]
  },
  {
   "cell_type": "code",
   "execution_count": 87,
   "id": "d1baf66a-1dc9-40ea-8f6f-70ae13545f81",
   "metadata": {},
   "outputs": [
    {
     "name": "stdout",
     "output_type": "stream",
     "text": [
      "0 3.645034634179529\n",
      "500 0.8889875455792703\n",
      "1000 0.7313210247828742\n",
      "1500 0.653745210471941\n",
      "2000 0.6112850774715729\n",
      "2500 0.5856756375273607\n",
      "3000 0.5689335102144203\n",
      "3500 0.557264163799764\n",
      "4000 0.5487088675124003\n",
      "4500 0.5421795346165802\n",
      "5000 0.5370332937859221\n"
     ]
    }
   ],
   "source": [
    "#Adding regularization\n",
    "eta=0.01\n",
    "n_iterations=5001\n",
    "m=len(X_train)\n",
    "epsilon = 1e-7\n",
    "alpha = 0.1  # regularization hyperparameter\n",
    "\n",
    "theta = np.random.randn(n_inputs, n_outputs)\n",
    "\n",
    "for iter in range(n_iterations):\n",
    "    logits=X_train.dot(theta)\n",
    "    Y_prob=softmax(logits)\n",
    "    xentropy_loss = -np.mean(np.sum(Y_train_one_hot * np.log(Y_prob + epsilon), axis=1))\n",
    "    l2_loss = 1/2 * np.sum(np.square(theta[1:]))                                   #Ignoring the bias term\n",
    "    loss = xentropy_loss + alpha * l2_loss\n",
    "    error = Y_prob - Y_train_one_hot\n",
    "    if iter % 500 == 0:\n",
    "        print (iter, loss)\n",
    "    gradient = 1/m * X_train.T.dot(error) + np.r_[np.zeros([1, n_outputs]), alpha * theta[1:]]\n",
    "    theta = theta - eta * gradient                                       #we don't regularize the first element of Theta since this corresponds to the bias term"
   ]
  },
  {
   "cell_type": "code",
   "execution_count": 88,
   "id": "18a68fd3-e5b7-4c93-9b38-f637d7f1b349",
   "metadata": {},
   "outputs": [
    {
     "name": "stdout",
     "output_type": "stream",
     "text": [
      "[2 2 1 2 1 2 0 1 2 0 1 2 1 0 0 0 1 2 2 1 2 2 1 1 2 2 1 2 0 1]\n",
      "[2 2 1 2 1 2 0 1 2 0 1 2 1 0 0 0 1 2 2 1 2 2 1 1 2 2 1 2 0 1]\n"
     ]
    },
    {
     "data": {
      "text/plain": [
       "1.0"
      ]
     },
     "execution_count": 88,
     "metadata": {},
     "output_type": "execute_result"
    }
   ],
   "source": [
    "logits=X_valid.dot(theta)\n",
    "Y_prob=softmax(logits)\n",
    "y_predict= np.argmax(Y_prob, axis=1)\n",
    "print(y_predict)\n",
    "print(y_valid)\n",
    "\n",
    "accuracy_score= np.mean(y_predict==y_valid)\n",
    "accuracy_score"
   ]
  },
  {
   "cell_type": "code",
   "execution_count": 89,
   "id": "9e4f7ba0-8213-45c3-b979-7c269a7a01ed",
   "metadata": {},
   "outputs": [
    {
     "name": "stdout",
     "output_type": "stream",
     "text": [
      "0 2.0818253923139145\n",
      "0 2.1903477688693416\n",
      "500 0.8617638679099227\n",
      "500 0.7995957709927541\n",
      "1000 0.7420210356637289\n",
      "1000 0.7196407892561292\n",
      "1500 0.6742222265394988\n",
      "1500 0.6741509972570723\n",
      "2000 0.6327721476574306\n",
      "2000 0.6459050327231884\n",
      "2500 0.605569120213689\n",
      "2500 0.626916538687396\n",
      "3000 0.5866181944819877\n",
      "3000 0.6132911850348309\n",
      "3500 0.5727600365507143\n",
      "3500 0.6030009670814341\n",
      "4000 0.5622239538507603\n",
      "4000 0.5949163027783524\n",
      "4500 0.5539602072513653\n",
      "4500 0.5883676032599687\n",
      "5000 0.5473148181507468\n",
      "5000 0.5829355970649076\n"
     ]
    }
   ],
   "source": [
    "#Adding early stopping condition\n",
    "eta=0.01\n",
    "n_iterations=5001\n",
    "m=len(X_train)\n",
    "epsilon = 1e-7\n",
    "alpha = 0.1  # regularization hyperparameter\n",
    "best_loss = np.infty\n",
    "\n",
    "theta = np.random.randn(n_inputs, n_outputs)\n",
    "\n",
    "for iter in range(n_iterations):\n",
    "    logits=X_train.dot(theta)\n",
    "    Y_prob=softmax(logits)\n",
    "    xentropy_loss = -np.mean(np.sum(Y_train_one_hot * np.log(Y_prob + epsilon), axis=1))\n",
    "    l2_loss = 1/2 * np.sum(np.square(theta[1:]))                                   #Ignoring the bias term\n",
    "    loss = xentropy_loss + alpha * l2_loss\n",
    "    error = Y_prob - Y_train_one_hot\n",
    "    if iter % 500 == 0:\n",
    "        print (iter, loss)\n",
    "    gradient = 1/m * X_train.T.dot(error) + np.r_[np.zeros([1, n_outputs]), alpha * theta[1:]]\n",
    "    theta = theta - eta * gradient                                       #we don't regularize the first element of Theta since this corresponds to the bias term\n",
    "    \n",
    "    logits=X_valid.dot(theta)\n",
    "    Y_prob=softmax(logits)\n",
    "    xentropy_loss = -np.mean(np.sum(Y_valid_one_hot * np.log(Y_prob + epsilon), axis=1))\n",
    "    l2_loss = 1/2 * np.sum(np.square(theta[1:]))\n",
    "    loss = xentropy_loss + alpha * l2_loss\n",
    "    if iter % 500 == 0:\n",
    "        print (iter, loss)\n",
    "    if loss < best_loss:\n",
    "        best_loss = loss\n",
    "    else:\n",
    "        print(iter-1, best_loss)\n",
    "        print(iter,loss,'early stopping')\n",
    "        break"
   ]
  },
  {
   "cell_type": "code",
   "execution_count": 91,
   "id": "ac93706a-ffee-404f-9e0f-3595225bf3e8",
   "metadata": {},
   "outputs": [
    {
     "data": {
      "text/plain": [
       "0.9666666666666667"
      ]
     },
     "execution_count": 91,
     "metadata": {},
     "output_type": "execute_result"
    }
   ],
   "source": [
    "#Test score\n",
    "logits = X_test.dot(theta)\n",
    "Y_proba = softmax(logits)\n",
    "y_predict = np.argmax(Y_proba, axis=1)\n",
    "\n",
    "accuracy_score = np.mean(y_predict == y_test)\n",
    "accuracy_score"
   ]
  },
  {
   "cell_type": "code",
   "execution_count": 97,
   "id": "58e5fe87-b781-4a49-8487-2fb2fb4c85ef",
   "metadata": {},
   "outputs": [
    {
     "name": "stdout",
     "output_type": "stream",
     "text": [
      "[0.         0.01603206 0.03206413 ... 7.96793587 7.98396794 8.        ]\n"
     ]
    },
    {
     "data": {
      "image/png": "[encoded data removed]",
      "text/plain": [
       "<Figure size 720x288 with 1 Axes>"
      ]
     },
     "metadata": {
      "needs_background": "light"
     },
     "output_type": "display_data"
    }
   ],
   "source": [
    "import matplotlib.pyplot as plt\n",
    "x0, x1 = np.meshgrid(\n",
    "        np.linspace(0, 8, 500).reshape(-1, 1),\n",
    "        np.linspace(0, 3.5, 200).reshape(-1, 1),\n",
    "    )\n",
    "\n",
    "X_new = np.c_[x0.ravel(), x1.ravel()]\n",
    "X_new_with_bias = np.c_[np.ones([len(X_new), 1]), X_new]\n",
    "\n",
    "logits = X_new_with_bias.dot(theta)\n",
    "Y_proba = softmax(logits)\n",
    "y_predict = np.argmax(Y_proba, axis=1)\n",
    "\n",
    "zz1 = Y_proba[:, 1].reshape(x0.shape)\n",
    "zz = y_predict.reshape(x0.shape)\n",
    "\n",
    "plt.figure(figsize=(10, 4))\n",
    "plt.plot(X[y==2, 0], X[y==2, 1], \"g^\", label=\"Iris-Virginica\")\n",
    "plt.plot(X[y==1, 0], X[y==1, 1], \"bs\", label=\"Iris-Versicolor\")\n",
    "plt.plot(X[y==0, 0], X[y==0, 1], \"yo\", label=\"Iris-Setosa\")\n",
    "\n",
    "from matplotlib.colors import ListedColormap\n",
    "\n",
    "custom_cmap = ListedColormap(['#fafab0','#9898ff','#a0faa0'])\n",
    "\n",
    "plt.contourf(x0, x1, zz, cmap=custom_cmap)\n",
    "contour = plt.contour(x0, x1, zz1, cmap=plt.cm.brg)\n",
    "plt.clabel(contour, inline=1, fontsize=12)\n",
    "plt.xlabel(\"Petal length\", fontsize=14)\n",
    "plt.ylabel(\"Petal width\", fontsize=14)\n",
    "plt.legend(loc=\"upper left\", fontsize=14)\n",
    "plt.axis([0, 7, 0, 3.5])\n",
    "plt.show()"
   ]
  },
  {
   "cell_type": "code",
   "execution_count": null,
   "id": "3e22100b-bdb6-4b8d-a758-4f3ae8170a08",
   "metadata": {},
   "outputs": [],
   "source": []
  }
 ],
 "metadata": {
  "kernelspec": {
   "display_name": "Python 3 (ipykernel)",
   "language": "python",
   "name": "python3"
  },
  "language_info": {
   "codemirror_mode": {
    "name": "ipython",
    "version": 3
   },
   "file_extension": ".py",
   "mimetype": "text/x-python",
   "name": "python",
   "nbconvert_exporter": "python",
   "pygments_lexer": "ipython3",
   "version": "3.8.10"
  }
 },
 "nbformat": 4,
 "nbformat_minor": 5
}
